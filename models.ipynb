{
 "cells": [
  {
   "cell_type": "code",
   "execution_count": 19,
   "id": "suffering-palestinian",
   "metadata": {},
   "outputs": [],
   "source": [
    "import pandas as pd\n",
    "from sklearn.linear_model import LogisticRegression ## for baseline\n",
    "from sklearn.metrics import confusion_matrix, classification_report\n",
    "from sklearn.neighbors import KNeighborsClassifier"
   ]
  },
  {
   "cell_type": "markdown",
   "id": "solid-huntington",
   "metadata": {},
   "source": [
    "### Logistic Regression for base case."
   ]
  },
  {
   "cell_type": "code",
   "execution_count": 26,
   "id": "suspected-ability",
   "metadata": {},
   "outputs": [],
   "source": [
    "def log_r(X_train,X_test, y_train, y_test):\n",
    "    log_r = LogisticRegression()\n",
    "    log_r.fit(X_train,y_train)\n",
    "    log_pred = log_r.predict(X_test)\n",
    "    cm_log_r = confusion_matrix(y_test,knn_pred)\n",
    "    cr_log_r = classification_report(y_test,knn_pred)\n",
    "    return cm_log_r, cr_log_r, log_r"
   ]
  },
  {
   "cell_type": "markdown",
   "id": "individual-approach",
   "metadata": {},
   "source": [
    "### KNN"
   ]
  },
  {
   "cell_type": "code",
   "execution_count": 27,
   "id": "apparent-broadcasting",
   "metadata": {},
   "outputs": [],
   "source": [
    "def knn(X_train,X_test, y_train, y_test):\n",
    "    knn = KNeighborsClassifier()\n",
    "    knn.fit(X_train,y_train)\n",
    "    knn_pred = knn.predict(X_test)\n",
    "    cm_knn = confusion_matrix(y_test,knn_pred)\n",
    "    cr_knn = classification_report(y_test,knn_pred)\n",
    "    return cm_knn, cr_knn, knn"
   ]
  },
  {
   "cell_type": "code",
   "execution_count": 29,
   "id": "closing-consequence",
   "metadata": {},
   "outputs": [],
   "source": [
    "def evaluate(test_train_splits_df):\n",
    "    cm_knns, cr_knns, knns, cm_log_rs, cr_log_rs, log_rs = list(), list(), list(), list(), list(), list()\n",
    "    for index, row in test_train_splits_df.iterrows():\n",
    "        cm_knn, cr_knn, knn = knn(row.X_train, row.X_test, row.y_train, row.y_test)\n",
    "        cm_log_r, cr_log_r, log_r = log_r(row.X_train, row.X_test, row.y_train, row.y_test)\n",
    "    return cm_knns, cr_knns, knns, cm_log_rs, cr_log_rs, log_rs"
   ]
  },
  {
   "cell_type": "code",
   "execution_count": 30,
   "id": "proprietary-digit",
   "metadata": {},
   "outputs": [],
   "source": [
    "def main():\n",
    "    test_train_splits_df = pd.read_pickle('./data/test_train_splits_df.pickle')\n",
    "    return test_train_splits_df.head()"
   ]
  },
  {
   "cell_type": "raw",
   "id": "adolescent-somerset",
   "metadata": {},
   "source": [
    "main()"
   ]
  },
  {
   "cell_type": "code",
   "execution_count": null,
   "id": "stretch-assessment",
   "metadata": {},
   "outputs": [],
   "source": []
  }
 ],
 "metadata": {
  "kernelspec": {
   "display_name": "Python 3",
   "language": "python",
   "name": "python3"
  },
  "language_info": {
   "codemirror_mode": {
    "name": "ipython",
    "version": 3
   },
   "file_extension": ".py",
   "mimetype": "text/x-python",
   "name": "python",
   "nbconvert_exporter": "python",
   "pygments_lexer": "ipython3",
   "version": "3.9.1"
  }
 },
 "nbformat": 4,
 "nbformat_minor": 5
}

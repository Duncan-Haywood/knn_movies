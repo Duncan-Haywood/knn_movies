{
 "cells": [
  {
   "cell_type": "code",
   "execution_count": 9,
   "id": "integrated-aluminum",
   "metadata": {},
   "outputs": [],
   "source": [
    "import pandas as pd\n",
    "from sklearn.feature_extraction.text import TfidfVectorizer, CountVectorizer"
   ]
  },
  {
   "cell_type": "code",
   "execution_count": 28,
   "id": "following-bride",
   "metadata": {},
   "outputs": [],
   "source": [
    "## vectorizing the reviews with the tf-idf approach\n",
    "def get_vectorizers(reviews_df, ngrams=(1,1)):\n",
    "    vec_tfidf = TfidfVectorizer(ngram_range=ngrams)\n",
    "    X_tfidf = vec_tfidf.fit_transform(reviews_df['clean_reviews'])\n",
    "    vec_cnt = CountVectorizer(ngram_range=ngrams)\n",
    "    X_cnt = vec_cnt.fit_transform(reviews_df['clean_reviews'])\n",
    "    return vec_tfidf, X_tfidf, vec_cnt, X_cnt\n",
    "def get_ngram_vectors(reviews_df):\n",
    "    ngrams=(1,1)\n",
    "    vec_tfidf, X_tfidf, vec_cnt, X_cnt = get_vectorizers(reviews_df, ngrams)\n",
    "    ngrams=(1,2)\n",
    "    vec_tfidf_bi, X_tfidf_mono_bi, vec_cnt_bi, X_cnt_mono_bi = get_vectorizers(reviews_df, ngrams)\n",
    "    return vec_tfidf, X_tfidf, vec_cnt, X_cnt, vec_tfidf_bi, X_tfidf_mono_bi, vec_cnt_bi, X_cnt_mono_bi\n",
    "## add X to reviews_df\n",
    "def create_vectors(X_tfidf, X_cnt, X_tfidf_mono_bi, X_cnt_mono_bi):\n",
    "    vectors_df = pd.DataFrame()\n",
    "    try:\n",
    "        vectors_df.insert(0, 'X_tfidf', [X_tfidf])\n",
    "        vectors_df.insert(0, 'X_cnt', [X_cnt])\n",
    "        vectors_df.insert(0, 'X_tfidf_mono_bi', [X_tfidf_mono_bi])\n",
    "        vectors_df.insert(0, 'X_cnt_mono_bi', [X_cnt_mono_bi])\n",
    "        print('added')\n",
    "    except:\n",
    "        print('already included.')\n",
    "    return vectors_df\n",
    "def save_vectors_df(vectors_df):\n",
    "    vectors_df.to_pickle('./data/vectors_df.pickle')"
   ]
  },
  {
   "cell_type": "code",
   "execution_count": 29,
   "id": "drawn-concern",
   "metadata": {
    "scrolled": true
   },
   "outputs": [],
   "source": [
    "def main():\n",
    "    ## import cleaned data\n",
    "    reviews_df = pd.read_pickle('./data/reviews_df.pickle')\n",
    "    ## add vectors\n",
    "    vec_tfidf, X_tfidf, vec_cnt, X_cnt, vec_tfidf_bi, X_tfidf_mono_bi, vec_cnt_bi, X_cnt_mono_bi = get_ngram_vectors(reviews_df)\n",
    "    vectors_df = create_vectors(X_tfidf, X_cnt, X_tfidf_mono_bi, X_cnt_mono_bi)\n",
    "    save_vectors_df(vectors_df)\n",
    "    ## check if works\n",
    "    vectors_df_loaded = pd.read_pickle('./data/vectors_df.pickle')\n",
    "    return vectors_df_loaded.head()"
   ]
  },
  {
   "cell_type": "code",
   "execution_count": 30,
   "id": "incredible-credit",
   "metadata": {},
   "outputs": [
    {
     "name": "stdout",
     "output_type": "stream",
     "text": [
      "added\n"
     ]
    },
    {
     "data": {
      "text/html": [
       "<div>\n",
       "<style scoped>\n",
       "    .dataframe tbody tr th:only-of-type {\n",
       "        vertical-align: middle;\n",
       "    }\n",
       "\n",
       "    .dataframe tbody tr th {\n",
       "        vertical-align: top;\n",
       "    }\n",
       "\n",
       "    .dataframe thead th {\n",
       "        text-align: right;\n",
       "    }\n",
       "</style>\n",
       "<table border=\"1\" class=\"dataframe\">\n",
       "  <thead>\n",
       "    <tr style=\"text-align: right;\">\n",
       "      <th></th>\n",
       "      <th>X_cnt_mono_bi</th>\n",
       "      <th>X_tfidf_mono_bi</th>\n",
       "      <th>X_cnt</th>\n",
       "      <th>X_tfidf</th>\n",
       "    </tr>\n",
       "  </thead>\n",
       "  <tbody>\n",
       "    <tr>\n",
       "      <th>0</th>\n",
       "      <td>(0, 10008)\\t3\\n  (0, 495)\\t2\\n  (0, 14594)\\t...</td>\n",
       "      <td>(0, 1641)\\t0.038158840056580906\\n  (0, 2867)...</td>\n",
       "      <td>(0, 2901)\\t3\\n  (0, 167)\\t2\\n  (0, 4186)\\t2\\...</td>\n",
       "      <td>(0, 480)\\t0.056094013212825984\\n  (0, 832)\\t...</td>\n",
       "    </tr>\n",
       "  </tbody>\n",
       "</table>\n",
       "</div>"
      ],
      "text/plain": [
       "                                       X_cnt_mono_bi  \\\n",
       "0    (0, 10008)\\t3\\n  (0, 495)\\t2\\n  (0, 14594)\\t...   \n",
       "\n",
       "                                     X_tfidf_mono_bi  \\\n",
       "0    (0, 1641)\\t0.038158840056580906\\n  (0, 2867)...   \n",
       "\n",
       "                                               X_cnt  \\\n",
       "0    (0, 2901)\\t3\\n  (0, 167)\\t2\\n  (0, 4186)\\t2\\...   \n",
       "\n",
       "                                             X_tfidf  \n",
       "0    (0, 480)\\t0.056094013212825984\\n  (0, 832)\\t...  "
      ]
     },
     "execution_count": 30,
     "metadata": {},
     "output_type": "execute_result"
    }
   ],
   "source": [
    "main()"
   ]
  },
  {
   "cell_type": "code",
   "execution_count": null,
   "id": "permanent-rugby",
   "metadata": {},
   "outputs": [],
   "source": []
  }
 ],
 "metadata": {
  "kernelspec": {
   "display_name": "Python 3",
   "language": "python",
   "name": "python3"
  },
  "language_info": {
   "codemirror_mode": {
    "name": "ipython",
    "version": 3
   },
   "file_extension": ".py",
   "mimetype": "text/x-python",
   "name": "python",
   "nbconvert_exporter": "python",
   "pygments_lexer": "ipython3",
   "version": "3.9.1"
  }
 },
 "nbformat": 4,
 "nbformat_minor": 5
}

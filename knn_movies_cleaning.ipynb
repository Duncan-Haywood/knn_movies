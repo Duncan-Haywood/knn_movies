{
 "cells": [
  {
   "cell_type": "markdown",
   "id": "peripheral-acquisition",
   "metadata": {},
   "source": [
    "Some goals of this code is to keep every cell and function in the form of pure functions, to document well, and to keep small the functions. I would greatly appreciate any contributions following the same guidelines. "
   ]
  },
  {
   "cell_type": "code",
   "execution_count": 77,
   "id": "latin-return",
   "metadata": {},
   "outputs": [],
   "source": [
    "## incase any packages aren't installed, you can uncomment and run this following line. \n",
    "# !pip3 install nltk pandas"
   ]
  },
  {
   "cell_type": "code",
   "execution_count": 67,
   "id": "diverse-canyon",
   "metadata": {},
   "outputs": [],
   "source": [
    "from nltk import word_tokenize\n",
    "from string import punctuation\n",
    "from nltk.corpus import stopwords\n",
    "import pandas as pd"
   ]
  },
  {
   "cell_type": "markdown",
   "id": "simplified-newcastle",
   "metadata": {},
   "source": [
    "# Phase One: loading and cleaning text"
   ]
  },
  {
   "cell_type": "code",
   "execution_count": 55,
   "id": "residential-gothic",
   "metadata": {},
   "outputs": [],
   "source": [
    "def load_into_reviews():\n",
    "    \"\"\"returns list of each individual review\"\"\"\n",
    "    with open('./data/small_train.txt') as text:\n",
    "        review = text.readline()\n",
    "        reviews = list()\n",
    "        while review:\n",
    "            reviews.append(review)\n",
    "            review = text.readline()\n",
    "    return reviews\n",
    "reviews_list = load_into_reviews()\n",
    "## check if loaded correctly\n",
    "# print('reviews number:', len(reviews_list),'\\nfirst review:', reviews_list[0])"
   ]
  },
  {
   "cell_type": "code",
   "execution_count": 56,
   "id": "desperate-museum",
   "metadata": {},
   "outputs": [],
   "source": [
    "## check if correctly loaded\n",
    "def is_one_review_per_entry(reviews_list):\n",
    "    \"\"\"returns dict of incorrect reviews\"\"\"\n",
    "    incorrects = dict()\n",
    "    end_tag = '#EOF'\n",
    "    for index, review in enumerate(reviews_list):\n",
    "        end_tags_count = review.count(end_tag) ## returns how many times the tag appears\n",
    "        if end_tags_count!=1:\n",
    "            incorrects[index]=end_tags_count ## stores the count and the index for future reference. \n",
    "    return incorrects\n",
    "incorrect_readins = is_one_review_per_entry(reviews_list)\n",
    "## check results:\n",
    "# print('length of incorrect_readins:', len(incorrect_readins)) ## should equal zero"
   ]
  },
  {
   "cell_type": "code",
   "execution_count": 57,
   "id": "angry-religious",
   "metadata": {},
   "outputs": [],
   "source": [
    "## tokenizing reviews\n",
    "def to_tokenized_list(reviews_list):\n",
    "    \"\"\"returns list of reviews where reviews are lists of tokens\"\"\"\n",
    "    tokenized_reviews_list = list()\n",
    "    for review in reviews_list:\n",
    "        tokens = word_tokenize(review)\n",
    "        tokenized_reviews_list.append(tokens)\n",
    "    return tokenized_reviews_list\n",
    "tokenized_reviews_list = to_tokenized_list(reviews_list)\n",
    "## check if loaded correctly\n",
    "# print('reviews number:', len(tokenized_reviews_list), '\\nfirst tokenized review:', tokenized_reviews_list[0])"
   ]
  },
  {
   "cell_type": "code",
   "execution_count": 58,
   "id": "southwest-marriage",
   "metadata": {},
   "outputs": [
    {
     "name": "stdout",
     "output_type": "stream",
     "text": [
      "first cleaned review ['+1', 'One', 'all-time', 'favorite', \"so-laughably-lousy-that-it's-totally-lovable\", 'el', 'cheapo', 'stinko', 'nickel', \"n'dime\", 'independent', 'horror', 'creature', 'features', 'enjoyably', 'dreadful', 'marvel', 'released', 'formidably', 'fecund', 'exploitation', 'outfit', 'Crown', 'International', 'Pictures', 'could', 'play', 'numerous', 'crappy', 'double', 'bills', 'countless', 'drive-ins', 'back', '70', \"'s\", 'eventually', 'wound', 'rerun', 'like', 'crazy', 'several', 'small-time', 'secondary', 'cable', 'stations', 'throughout', '80', \"'s\", 'I', 'naturally', 'first', 'saw', 'gloriously', 'ghastly', 'abomination', 'late-night', 'television', 'one', 'fateful', 'Saturday', 'evening', 'early', 'teens', 'deep-seated', 'albeit', 'completely', 'irrational', 'abiding', 'fondness', 'ever', 'since.', 'br', 'br', 'A', 'meteorite', 'falls', 'sky', 'crashes', 'still', 'waters', 'tranquil', 'country', 'lake', 'thereby', 'causing', 'heretofore', 'dormant', 'dinosaur', 'egg', 'hatch', 'Of', 'course', 'baby', 'dino', 'immediately', 'grows', 'gigantic', 'waddling', 'grunting', 'teeth-gnashing', 'prehistoric', 'behemoth', 'goofy', 'flippers', 'extended', 'neck', 'huge', 'mouth', 'full', 'little', 'sharp', 'jagged', 'stalagmite-like', 'chompers', 'Our', 'Southern-fried', 'male', 'cousin', 'Loch', 'Ness', 'Monster', 'promptly', 'starts', 'chowing', 'various', 'luckless', 'local', 'yokel', 'residents', 'previously', 'quiet', 'sleepy', 'hillbilly', 'resort', 'town', 'It', \"'s\", 'drippy', 'stalwart', 'sheriff', 'Richard', 'Cardella', 'assisted', 'painfully', 'idiotic', 'hayseed', 'comic', 'relief', 'brotherly', 'fishing', 'guide', 'duo', 'Glenn', 'Roberts', 'Mark', 'Seigel', 'feisty', 'gal', 'pal', 'Kacey', 'Cobb', 'terminally', 'insipid', 'nerdy', 'scientist', 'Bob', 'Hyman', 'get', 'bottom', 'things', 'over-sized', 'gluttonous', 'Jurassic', 'throwback', 'ruins', 'tourist', 'trade', 'eating', 'campers', 'fisherman', 'hick', 'hamlet', 'makes', 'cash', 'of.', 'br', 'br', 'Director/co-screenwriter', 'William', 'R.', 'Stromberg', 'displays', 'wonderfully', 'woeful', 'thoroughly', 'clueless', 'incompetence', 'comes', 'pacing', 'atmosphere', 'taut', 'narrative', 'construction', 'especially', 'eliciting', 'sound', 'credible', 'acting', 'hopelessly', 'all-thumbs', 'rank', 'amateur', 'community', 'theater', 'level', 'cast', 'The', 'performances', 'uniformly', 'abysmal', 'Cardella', 'way', 'bland', 'wooden', 'cut', 'solid', 'heroic', 'lead', 'pitifully', 'dopey', 'redneck', 'comic', 'antics', 'Roberts', 'Seigel', 'provoke', 'groans', 'slack-jawed', 'disbelief', '--', \"n't\", 'laughing', 'two', 'atrociously', 'mugging', 'clods', 'much', 'particularly', 'insufferable', 'imbeciles', 'discover', 'severed', 'head', 'bobbing', 'murky', 'lake', 'water', 'Better', 'yet', 'clumsily', 'integrated', 'sub-plot', 'concerning', 'vicious', 'on-the-loose', 'criminal', 'leads', 'spectacularly', 'ham-fisted', 'supermarket', 'hold-up', 'scene', 'degenerates', 'hilariously', 'stupid', 'mini-massacre', 'young', 'lady', 'shopper', 'interrupts', 'stick-up', 'artist', 'mid-robbery', 'A', 'subsequent', 'car', 'chase', 'likewise', 'severely', 'bungled', 'well', \"'s\", 'limply', 'staged', 'unimpressive', 'one', 'feels', 'relieved', 'scared', 'monster', 'abruptly', 'pops', 'devour', 'nefarious', 'fugitive', 'Moreover', 'David', 'Allen', \"'s\", 'funky', 'herky-jerky', 'stop', 'motion', 'animation', 'dinosaur', 'authentic', 'gnarly', 'article', 'projecting', 'certain', 'raw', 'charisma', 'sneaky', 'reptilian', 'personality', 'overall', 'forceful', 'screen', 'presence', 'makes', 'horrendously', 'underwhelming', 'human', 'characters', 'seem', 'like', 'pathetically', 'unbecoming', 'nobody', 'bores', 'comparison', 'And', 'rousing', 'conclusion', 'sheriff', 'takes', 'slavering', 'beastie', 'bulldozer', 'operative', 'word', 'thrilling', 'confrontation', 'boffo', 'way', 'EOF']\n"
     ]
    }
   ],
   "source": [
    "## removing extra tokens. \n",
    "def remove_extra_tokens(tokenized_reviews_list):\n",
    "    \"\"\"returns list of reviews where reviews are lists of tokens and some extraneous tokens are removed\"\"\"\n",
    "    clean_reviews_list = list()\n",
    "    for review in tokenized_reviews_list:\n",
    "        ## only tokens neither in punctuation or stopwords\n",
    "        clean_review = [token for token in review if token not in punctuation and token not in stopwords.words('english')]\n",
    "        clean_reviews_list.append(clean_review)\n",
    "    return clean_reviews_list\n",
    "clean_reviews_list = remove_extra_tokens(tokenized_reviews_list)\n",
    "# print('first cleaned review', clean_reviews_list[0])"
   ]
  },
  {
   "cell_type": "code",
   "execution_count": 59,
   "id": "constitutional-monthly",
   "metadata": {},
   "outputs": [],
   "source": [
    "## more cleaning could be done at this point to improve quality. "
   ]
  },
  {
   "cell_type": "code",
   "execution_count": 60,
   "id": "continuous-affairs",
   "metadata": {},
   "outputs": [
    {
     "name": "stdout",
     "output_type": "stream",
     "text": [
      "ratings [1, -1, -1, -1, 1, 1, 1, 1, -1, -1, -1, -1, -1, -1, 1, 1, 1, -1, -1, 1, 1, 1, -1, 1, -1, 1, 1, 1, 1, 1, -1, -1, 1, -1, -1, -1, -1, -1, -1, 1, -1, 1, 1, 1, -1, -1, 1, 1, 1, 1, -1, 1, -1, -1, 1, 1, -1, -1, 1, -1, 1, -1, -1, -1, -1, 1, 1, 1, 1, -1, -1, 1, 1, 1, -1, -1, 1, 1, 1, -1, -1, 1, -1, -1, -1, -1, 1, 1, -1, 1, 1, 1, -1, 1, 1, -1, -1, 1, -1]\n"
     ]
    }
   ],
   "source": [
    "def get_ratings(clean_reviews_list):\n",
    "    \"\"\"returns ratings and returns clean_reviews_list without the ratings\"\"\"\n",
    "    ratings_y = list()\n",
    "    for review in clean_reviews_list:\n",
    "        rating = int(review[0])\n",
    "        ratings_y.append(rating)\n",
    "    return ratings_y\n",
    "ratings_y = get_ratings(clean_reviews_list)\n",
    "## check to see if works\n",
    "# print('ratings', ratings_y)"
   ]
  },
  {
   "cell_type": "code",
   "execution_count": 61,
   "id": "gross-damages",
   "metadata": {},
   "outputs": [
    {
     "name": "stdout",
     "output_type": "stream",
     "text": [
      "['One', 'all-time', 'favorite', \"so-laughably-lousy-that-it's-totally-lovable\", 'el', 'cheapo', 'stinko', 'nickel', \"n'dime\", 'independent', 'horror', 'creature', 'features', 'enjoyably', 'dreadful', 'marvel', 'released', 'formidably', 'fecund', 'exploitation', 'outfit', 'Crown', 'International', 'Pictures', 'could', 'play', 'numerous', 'crappy', 'double', 'bills', 'countless', 'drive-ins', 'back', '70', \"'s\", 'eventually', 'wound', 'rerun', 'like', 'crazy', 'several', 'small-time', 'secondary', 'cable', 'stations', 'throughout', '80', \"'s\", 'I', 'naturally', 'first', 'saw', 'gloriously', 'ghastly', 'abomination', 'late-night', 'television', 'one', 'fateful', 'Saturday', 'evening', 'early', 'teens', 'deep-seated', 'albeit', 'completely', 'irrational', 'abiding', 'fondness', 'ever', 'since.', 'br', 'br', 'A', 'meteorite', 'falls', 'sky', 'crashes', 'still', 'waters', 'tranquil', 'country', 'lake', 'thereby', 'causing', 'heretofore', 'dormant', 'dinosaur', 'egg', 'hatch', 'Of', 'course', 'baby', 'dino', 'immediately', 'grows', 'gigantic', 'waddling', 'grunting', 'teeth-gnashing', 'prehistoric', 'behemoth', 'goofy', 'flippers', 'extended', 'neck', 'huge', 'mouth', 'full', 'little', 'sharp', 'jagged', 'stalagmite-like', 'chompers', 'Our', 'Southern-fried', 'male', 'cousin', 'Loch', 'Ness', 'Monster', 'promptly', 'starts', 'chowing', 'various', 'luckless', 'local', 'yokel', 'residents', 'previously', 'quiet', 'sleepy', 'hillbilly', 'resort', 'town', 'It', \"'s\", 'drippy', 'stalwart', 'sheriff', 'Richard', 'Cardella', 'assisted', 'painfully', 'idiotic', 'hayseed', 'comic', 'relief', 'brotherly', 'fishing', 'guide', 'duo', 'Glenn', 'Roberts', 'Mark', 'Seigel', 'feisty', 'gal', 'pal', 'Kacey', 'Cobb', 'terminally', 'insipid', 'nerdy', 'scientist', 'Bob', 'Hyman', 'get', 'bottom', 'things', 'over-sized', 'gluttonous', 'Jurassic', 'throwback', 'ruins', 'tourist', 'trade', 'eating', 'campers', 'fisherman', 'hick', 'hamlet', 'makes', 'cash', 'of.', 'br', 'br', 'Director/co-screenwriter', 'William', 'R.', 'Stromberg', 'displays', 'wonderfully', 'woeful', 'thoroughly', 'clueless', 'incompetence', 'comes', 'pacing', 'atmosphere', 'taut', 'narrative', 'construction', 'especially', 'eliciting', 'sound', 'credible', 'acting', 'hopelessly', 'all-thumbs', 'rank', 'amateur', 'community', 'theater', 'level', 'cast', 'The', 'performances', 'uniformly', 'abysmal', 'Cardella', 'way', 'bland', 'wooden', 'cut', 'solid', 'heroic', 'lead', 'pitifully', 'dopey', 'redneck', 'comic', 'antics', 'Roberts', 'Seigel', 'provoke', 'groans', 'slack-jawed', 'disbelief', '--', \"n't\", 'laughing', 'two', 'atrociously', 'mugging', 'clods', 'much', 'particularly', 'insufferable', 'imbeciles', 'discover', 'severed', 'head', 'bobbing', 'murky', 'lake', 'water', 'Better', 'yet', 'clumsily', 'integrated', 'sub-plot', 'concerning', 'vicious', 'on-the-loose', 'criminal', 'leads', 'spectacularly', 'ham-fisted', 'supermarket', 'hold-up', 'scene', 'degenerates', 'hilariously', 'stupid', 'mini-massacre', 'young', 'lady', 'shopper', 'interrupts', 'stick-up', 'artist', 'mid-robbery', 'A', 'subsequent', 'car', 'chase', 'likewise', 'severely', 'bungled', 'well', \"'s\", 'limply', 'staged', 'unimpressive', 'one', 'feels', 'relieved', 'scared', 'monster', 'abruptly', 'pops', 'devour', 'nefarious', 'fugitive', 'Moreover', 'David', 'Allen', \"'s\", 'funky', 'herky-jerky', 'stop', 'motion', 'animation', 'dinosaur', 'authentic', 'gnarly', 'article', 'projecting', 'certain', 'raw', 'charisma', 'sneaky', 'reptilian', 'personality', 'overall', 'forceful', 'screen', 'presence', 'makes', 'horrendously', 'underwhelming', 'human', 'characters', 'seem', 'like', 'pathetically', 'unbecoming', 'nobody', 'bores', 'comparison', 'And', 'rousing', 'conclusion', 'sheriff', 'takes', 'slavering', 'beastie', 'bulldozer', 'operative', 'word', 'thrilling', 'confrontation', 'boffo', 'way']\n"
     ]
    }
   ],
   "source": [
    "def remove_ratings_from_reviews_list(clean_reviews_list):\n",
    "    \"\"\"returns same list without the first token of each review and without last 'EOF'\"\"\"\n",
    "    shortened_list = [review[1:-1] for review in clean_reviews_list] \n",
    "    return shortened_list\n",
    "clean_reviews_short_list = remove_ratings_from_reviews_list(clean_reviews_list)\n",
    "## check to see if it worksd\n",
    "# print(clean_reviews_short_list[0])"
   ]
  },
  {
   "cell_type": "code",
   "execution_count": 62,
   "id": "domestic-korean",
   "metadata": {},
   "outputs": [
    {
     "name": "stdout",
     "output_type": "stream",
     "text": [
      "I high hopes film I thought CLEAN SHAVEN Kerrigan 's first feature absolutely terrific assuredly cinematic low budget film I 'd ever seen. br br But much CLAIRE DOLAN utterly pointless flat Scene scene seems randomly tossed mix without much thought narrative character. br br Is Claire trying escape prostitute Hard tell Why pick trick airport wants escape life Why pick tricks needs money Seattle Why see dye hair virtually exact color Why Claire accept johns others The filmmaker n't seem know. br br It feels everything improvised though I understand n't case filmmakers held camera making verite documentary. br br After screening I saw Kerrigan defended lack narrative choices condemning film narrative politically conservative It sounded like learned rhetoric I think cop-out. br br I saddened maker film exciting CLEAN SHAVEN would go make lame film one defend tired old `` political '' cliches\n"
     ]
    }
   ],
   "source": [
    "## final preprocessing for tokenizer use. \n",
    "def stringify_reviews_tokens(clean_reviews_short_list):\n",
    "    clean_reviews = list()\n",
    "    for review_tokens in clean_reviews_short_list:\n",
    "        review = ' '.join(review_tokens)\n",
    "        clean_reviews.append(review)\n",
    "    return clean_reviews\n",
    "clean_reviews = stringify_reviews_tokens(clean_reviews_short_list)\n",
    "# print(clean_reviews[1])"
   ]
  },
  {
   "cell_type": "markdown",
   "id": "placed-midnight",
   "metadata": {},
   "source": [
    "## Saving for future use"
   ]
  },
  {
   "cell_type": "code",
   "execution_count": 79,
   "id": "automatic-sleeping",
   "metadata": {},
   "outputs": [],
   "source": [
    "## saves cleaned tokens and strings for use in next steps\n",
    "def reviews_to_df():\n",
    "    reviews_df = pd.DataFrame()\n",
    "    reviews_df['ratings'] = ratings_y\n",
    "    reviews_df['tokens'] = clean_reviews_short_list\n",
    "    reviews_df['clean_reviews'] = clean_reviews\n",
    "    return reviews_df\n",
    "reviews_df = reviews_to_df()\n",
    "# reviews_df.head()"
   ]
  },
  {
   "cell_type": "code",
   "execution_count": 87,
   "id": "alpine-career",
   "metadata": {},
   "outputs": [],
   "source": [
    "def save_df(reviews_df):\n",
    "    reviews_df.to_pickle('./data/reviews_df.pickle')\n",
    "save_df(reviews_df)\n",
    "## below is to check whether the save worked. \n",
    "# df = pd.read_pickle('./data/reviews_df.pickle')\n",
    "# df.head()"
   ]
  },
  {
   "cell_type": "code",
   "execution_count": null,
   "id": "duplicate-spelling",
   "metadata": {},
   "outputs": [],
   "source": []
  },
  {
   "cell_type": "code",
   "execution_count": null,
   "id": "alert-capacity",
   "metadata": {},
   "outputs": [],
   "source": []
  }
 ],
 "metadata": {
  "kernelspec": {
   "display_name": "Python 3",
   "language": "python",
   "name": "python3"
  },
  "language_info": {
   "codemirror_mode": {
    "name": "ipython",
    "version": 3
   },
   "file_extension": ".py",
   "mimetype": "text/x-python",
   "name": "python",
   "nbconvert_exporter": "python",
   "pygments_lexer": "ipython3",
   "version": "3.9.1"
  }
 },
 "nbformat": 4,
 "nbformat_minor": 5
}

{
 "cells": [
  {
   "cell_type": "code",
   "execution_count": 356,
   "id": "ancient-speaker",
   "metadata": {},
   "outputs": [],
   "source": [
    "import pandas as pd\n",
    "from sklearn.model_selection import train_test_split\n",
    "from sklearn.neighbors import KNeighborsClassifier, VALID_METRICS_SPARSE\n",
    "from sklearn.feature_extraction.text import TfidfVectorizer, CountVectorizer, HashingVectorizer\n",
    "from sklearn.pipeline import make_pipeline, Pipeline\n",
    "from sklearn.model_selection import GridSearchCV\n",
    "from sklearn.preprocessing import StandardScaler\n",
    "from sklearn.model_selection import cross_val_score\n",
    "from sklearn.metrics import plot_confusion_matrix, classification_report\n",
    "from sklearn.decomposition import SparsePCA\n",
    "from sklearn.model_selection import ShuffleSplit"
   ]
  },
  {
   "cell_type": "code",
   "execution_count": 130,
   "id": "subsequent-senate",
   "metadata": {},
   "outputs": [],
   "source": [
    "def get_reviews_df():\n",
    "    reviews_df = pd.read_pickle('./data/reviews_df.pickle')\n",
    "    return reviews_df"
   ]
  },
  {
   "cell_type": "code",
   "execution_count": 244,
   "id": "infrared-impact",
   "metadata": {},
   "outputs": [],
   "source": [
    "def get_scores(reviews_df):\n",
    "    random_states, s1s, s2s, s3s = (list() for i in range(4))\n",
    "    for n in range(100):\n",
    "        X_train, X_test, y_train, y_test = train_test_split(reviews_df.clean_reviews, reviews_df.ratings, random_state=n, test_size=0.20)\n",
    "        \n",
    "        pipe = make_pipeline(TfidfVectorizer(), KNeighborsClassifier())\n",
    "        pipe.fit(X_train, y_train)\n",
    "        s1 = pipe.score(X_test, y_test)\n",
    "        \n",
    "        pipe = make_pipeline(CountVectorizer(), KNeighborsClassifier())\n",
    "        pipe.fit(X_train, y_train)\n",
    "        s2 = pipe.score(X_test, y_test)\n",
    "        \n",
    "        pipe = make_pipeline(HashingVectorizer(), KNeighborsClassifier())\n",
    "        pipe.fit(X_train, y_train)\n",
    "        s3 = pipe.score(X_test, y_test)\n",
    "        \n",
    "        random_states.append(n)\n",
    "        s1s.append(s1) \n",
    "        s2s.append(s2)\n",
    "        s3s.append(s3)\n",
    "    return random_states, s1s, s2s, s3s"
   ]
  },
  {
   "cell_type": "code",
   "execution_count": 245,
   "id": "canadian-payroll",
   "metadata": {},
   "outputs": [],
   "source": [
    "def metrics_to_df(random_states, s1s, s2s, s3s):\n",
    "    metrics_df = pd.DataFrame(columns=['random_state', 'TfidfVectorizer', 'CountVectorizer', 'HashingVectorizer'])\n",
    "    metrics_df.random_state = random_states\n",
    "    metrics_df.TfidfVectorizer = s1s\n",
    "    metrics_df.CountVectorizer = s2s\n",
    "    metrics_df.HashingVectorizer = s3s\n",
    "    return metrics_df"
   ]
  },
  {
   "cell_type": "code",
   "execution_count": 246,
   "id": "allied-opposition",
   "metadata": {},
   "outputs": [],
   "source": [
    "def main():\n",
    "    reviews_df = get_reviews_df()\n",
    "    random_states, s1s, s2s, s3s = get_scores(reviews_df)\n",
    "    metrics_df = metrics_to_df(random_states, s1s, s2s, s3s)\n",
    "    return metrics_df"
   ]
  },
  {
   "cell_type": "code",
   "execution_count": 247,
   "id": "recognized-contemporary",
   "metadata": {},
   "outputs": [],
   "source": [
    "metrics_df = main()"
   ]
  },
  {
   "cell_type": "code",
   "execution_count": 248,
   "id": "certified-generator",
   "metadata": {},
   "outputs": [
    {
     "data": {
      "text/html": [
       "<div>\n",
       "<style scoped>\n",
       "    .dataframe tbody tr th:only-of-type {\n",
       "        vertical-align: middle;\n",
       "    }\n",
       "\n",
       "    .dataframe tbody tr th {\n",
       "        vertical-align: top;\n",
       "    }\n",
       "\n",
       "    .dataframe thead th {\n",
       "        text-align: right;\n",
       "    }\n",
       "</style>\n",
       "<table border=\"1\" class=\"dataframe\">\n",
       "  <thead>\n",
       "    <tr style=\"text-align: right;\">\n",
       "      <th></th>\n",
       "      <th>random_state</th>\n",
       "      <th>TfidfVectorizer</th>\n",
       "      <th>CountVectorizer</th>\n",
       "      <th>HashingVectorizer</th>\n",
       "    </tr>\n",
       "  </thead>\n",
       "  <tbody>\n",
       "    <tr>\n",
       "      <th>count</th>\n",
       "      <td>100.000000</td>\n",
       "      <td>100.000000</td>\n",
       "      <td>100.000000</td>\n",
       "      <td>100.00000</td>\n",
       "    </tr>\n",
       "    <tr>\n",
       "      <th>mean</th>\n",
       "      <td>49.500000</td>\n",
       "      <td>0.567500</td>\n",
       "      <td>0.545500</td>\n",
       "      <td>0.49500</td>\n",
       "    </tr>\n",
       "    <tr>\n",
       "      <th>std</th>\n",
       "      <td>29.011492</td>\n",
       "      <td>0.114454</td>\n",
       "      <td>0.101029</td>\n",
       "      <td>0.09962</td>\n",
       "    </tr>\n",
       "    <tr>\n",
       "      <th>min</th>\n",
       "      <td>0.000000</td>\n",
       "      <td>0.300000</td>\n",
       "      <td>0.300000</td>\n",
       "      <td>0.25000</td>\n",
       "    </tr>\n",
       "    <tr>\n",
       "      <th>25%</th>\n",
       "      <td>24.750000</td>\n",
       "      <td>0.500000</td>\n",
       "      <td>0.450000</td>\n",
       "      <td>0.45000</td>\n",
       "    </tr>\n",
       "    <tr>\n",
       "      <th>50%</th>\n",
       "      <td>49.500000</td>\n",
       "      <td>0.575000</td>\n",
       "      <td>0.550000</td>\n",
       "      <td>0.50000</td>\n",
       "    </tr>\n",
       "    <tr>\n",
       "      <th>75%</th>\n",
       "      <td>74.250000</td>\n",
       "      <td>0.650000</td>\n",
       "      <td>0.650000</td>\n",
       "      <td>0.55000</td>\n",
       "    </tr>\n",
       "    <tr>\n",
       "      <th>max</th>\n",
       "      <td>99.000000</td>\n",
       "      <td>0.800000</td>\n",
       "      <td>0.700000</td>\n",
       "      <td>0.75000</td>\n",
       "    </tr>\n",
       "  </tbody>\n",
       "</table>\n",
       "</div>"
      ],
      "text/plain": [
       "       random_state  TfidfVectorizer  CountVectorizer  HashingVectorizer\n",
       "count    100.000000       100.000000       100.000000          100.00000\n",
       "mean      49.500000         0.567500         0.545500            0.49500\n",
       "std       29.011492         0.114454         0.101029            0.09962\n",
       "min        0.000000         0.300000         0.300000            0.25000\n",
       "25%       24.750000         0.500000         0.450000            0.45000\n",
       "50%       49.500000         0.575000         0.550000            0.50000\n",
       "75%       74.250000         0.650000         0.650000            0.55000\n",
       "max       99.000000         0.800000         0.700000            0.75000"
      ]
     },
     "execution_count": 248,
     "metadata": {},
     "output_type": "execute_result"
    }
   ],
   "source": [
    "metrics_df.describe()"
   ]
  },
  {
   "cell_type": "markdown",
   "id": "hazardous-symphony",
   "metadata": {},
   "source": [
    "## Explore"
   ]
  },
  {
   "cell_type": "code",
   "execution_count": 249,
   "id": "healthy-hudson",
   "metadata": {
    "collapsed": true
   },
   "outputs": [
    {
     "data": {
      "text/plain": [
       "{'memory': None,\n",
       " 'steps': [('tfidfvectorizer', TfidfVectorizer()),\n",
       "  ('kneighborsclassifier', KNeighborsClassifier())],\n",
       " 'verbose': False,\n",
       " 'tfidfvectorizer': TfidfVectorizer(),\n",
       " 'kneighborsclassifier': KNeighborsClassifier(),\n",
       " 'tfidfvectorizer__analyzer': 'word',\n",
       " 'tfidfvectorizer__binary': False,\n",
       " 'tfidfvectorizer__decode_error': 'strict',\n",
       " 'tfidfvectorizer__dtype': numpy.float64,\n",
       " 'tfidfvectorizer__encoding': 'utf-8',\n",
       " 'tfidfvectorizer__input': 'content',\n",
       " 'tfidfvectorizer__lowercase': True,\n",
       " 'tfidfvectorizer__max_df': 1.0,\n",
       " 'tfidfvectorizer__max_features': None,\n",
       " 'tfidfvectorizer__min_df': 1,\n",
       " 'tfidfvectorizer__ngram_range': (1, 1),\n",
       " 'tfidfvectorizer__norm': 'l2',\n",
       " 'tfidfvectorizer__preprocessor': None,\n",
       " 'tfidfvectorizer__smooth_idf': True,\n",
       " 'tfidfvectorizer__stop_words': None,\n",
       " 'tfidfvectorizer__strip_accents': None,\n",
       " 'tfidfvectorizer__sublinear_tf': False,\n",
       " 'tfidfvectorizer__token_pattern': '(?u)\\\\b\\\\w\\\\w+\\\\b',\n",
       " 'tfidfvectorizer__tokenizer': None,\n",
       " 'tfidfvectorizer__use_idf': True,\n",
       " 'tfidfvectorizer__vocabulary': None,\n",
       " 'kneighborsclassifier__algorithm': 'auto',\n",
       " 'kneighborsclassifier__leaf_size': 30,\n",
       " 'kneighborsclassifier__metric': 'minkowski',\n",
       " 'kneighborsclassifier__metric_params': None,\n",
       " 'kneighborsclassifier__n_jobs': None,\n",
       " 'kneighborsclassifier__n_neighbors': 5,\n",
       " 'kneighborsclassifier__p': 2,\n",
       " 'kneighborsclassifier__weights': 'uniform'}"
      ]
     },
     "execution_count": 249,
     "metadata": {},
     "output_type": "execute_result"
    }
   ],
   "source": [
    "pipe.get_params()"
   ]
  },
  {
   "cell_type": "code",
   "execution_count": 387,
   "id": "settled-oxford",
   "metadata": {},
   "outputs": [
    {
     "name": "stdout",
     "output_type": "stream",
     "text": [
      "Fitting 1 folds for each of 2058 candidates, totalling 2058 fits\n"
     ]
    },
    {
     "data": {
      "text/plain": [
       "GridSearchCV(cv=ShuffleSplit(n_splits=1, random_state=7, test_size=0.1, train_size=0.9),\n",
       "             estimator=Pipeline(steps=[('vectorizer', TfidfVectorizer()),\n",
       "                                       ('classifier', KNeighborsClassifier())]),\n",
       "             param_grid=[{'classifier': [KNeighborsClassifier(metric='cosine',\n",
       "                                                              n_neighbors=3)],\n",
       "                          'classifier__metric': ('cosine', 'euclidean',\n",
       "                                                 'manhattan'),\n",
       "                          'classifier__n_neighbors': (2, 3...\n",
       "                          'classifier__metric': ('cosine', 'euclidean',\n",
       "                                                 'manhattan'),\n",
       "                          'classifier__n_neighbors': (2, 3, 4, 5, 6, 7, 8),\n",
       "                          'vectorizer': [CountVectorizer()]},\n",
       "                         {'classifier': [KNeighborsClassifier(metric='cosine',\n",
       "                                                              n_neighbors=3)],\n",
       "                          'classifier__metric': ('cosine', 'euclidean',\n",
       "                                                 'manhattan'),\n",
       "                          'classifier__n_neighbors': (2, 3, 4, 5, 6, 7, 8),\n",
       "                          'vectorizer': [HashingVectorizer()]}],\n",
       "             scoring='accuracy', verbose=1)"
      ]
     },
     "execution_count": 387,
     "metadata": {},
     "output_type": "execute_result"
    }
   ],
   "source": [
    "n=20\n",
    "X_train, X_test, y_train, y_test = train_test_split(reviews_df.clean_reviews, reviews_df.ratings, random_state=n, test_size=0.25)\n",
    "pipe = Pipeline([('vectorizer', TfidfVectorizer()), ('classifier', KNeighborsClassifier())])\n",
    "pipe.fit(X_train, y_train)\n",
    "s1 = pipe.score(X_test, y_test)\n",
    "\n",
    "standard_params = {\n",
    "    'classifier': [KNeighborsClassifier()],\n",
    "    'vectorizer': [TfidfVectorizer()]\n",
    "}\n",
    "knn_params = {\n",
    "        'classifier': [KNeighborsClassifier()],\n",
    "        'classifier__n_neighbors': (2,3,4,5,6,7,8),\n",
    "        'classifier__metric': ('cosine', 'euclidean', 'manhattan')\n",
    "    }\n",
    "tfidf_params = {\n",
    "        'vectorizer': [TfidfVectorizer()],\n",
    "        'vectorizer__max_df': [x/10 for x in range(3,11)],\n",
    "        'vectorizer__min_df': [x/10 for x in range(0,3)],\n",
    "        'vectorizer__ngram_range': ((1, 1), (1,2)),\n",
    "        'vectorizer__norm': ('l2','l1')\n",
    "    }\n",
    "count_params = {\n",
    "    'vectorizer': [CountVectorizer()]\n",
    "}\n",
    "hashing_params = {\n",
    "    'vectorizer': [HashingVectorizer()]\n",
    "}\n",
    "grid_parameters = [\n",
    "    {**knn_params, **tfidf_params}, \n",
    "    {**knn_params, **count_params},\n",
    "    {**knn_params, **hashing_params},\n",
    "    {**standard_params}\n",
    "]\n",
    "\n",
    "cv_shuffle_split = ShuffleSplit(n_splits=1, train_size=0.9, test_size=0.1, random_state=n)\n",
    "grid_search = GridSearchCV(pipe, grid_parameters, scoring='accuracy', verbose=1, cv=cv_shuffle_split)\n",
    "grid_search.fit(X_train, y_train)"
   ]
  },
  {
   "cell_type": "code",
   "execution_count": 383,
   "id": "unlikely-stewart",
   "metadata": {},
   "outputs": [],
   "source": [
    "# n=15\n",
    "# X_train, X_test, y_train, y_test = train_test_split(reviews_df.clean_reviews, reviews_df.ratings, random_state=n, test_size=0.25)"
   ]
  },
  {
   "cell_type": "code",
   "execution_count": 390,
   "id": "arabic-indication",
   "metadata": {},
   "outputs": [
    {
     "name": "stdout",
     "output_type": "stream",
     "text": [
      "0.875\n",
      "{'classifier': KNeighborsClassifier(metric='cosine', n_neighbors=3), 'classifier__metric': 'cosine', 'classifier__n_neighbors': 3, 'vectorizer': TfidfVectorizer(max_df=0.5, min_df=0.2), 'vectorizer__max_df': 0.5, 'vectorizer__min_df': 0.2, 'vectorizer__ngram_range': (1, 1), 'vectorizer__norm': 'l2'}\n",
      "0.6\n",
      "              precision    recall  f1-score   support\n",
      "\n",
      "          +1       0.50      0.70      0.58        10\n",
      "          -1       0.73      0.53      0.62        15\n",
      "\n",
      "    accuracy                           0.60        25\n",
      "   macro avg       0.61      0.62      0.60        25\n",
      "weighted avg       0.64      0.60      0.60        25\n",
      "\n"
     ]
    }
   ],
   "source": [
    "print(grid_search.best_score_)\n",
    "print(grid_search.best_params_)\n",
    "grid_estimater = grid_search.best_estimator_\n",
    "print(grid_estimater.score(X_test, y_test))\n",
    "grid_pred = grid_search.predict(X_test)\n",
    "print(classification_report(y_test, grid_pred))\n",
    "# plot_confusion_matrix(grid_estimater, X_test, y_test)"
   ]
  },
  {
   "cell_type": "code",
   "execution_count": 391,
   "id": "completed-martial",
   "metadata": {},
   "outputs": [
    {
     "name": "stdout",
     "output_type": "stream",
     "text": [
      "0.6\n",
      "              precision    recall  f1-score   support\n",
      "\n",
      "          +1       0.50      0.60      0.55        10\n",
      "          -1       0.69      0.60      0.64        15\n",
      "\n",
      "    accuracy                           0.60        25\n",
      "   macro avg       0.60      0.60      0.59        25\n",
      "weighted avg       0.62      0.60      0.60        25\n",
      "\n"
     ]
    },
    {
     "data": {
      "text/plain": [
       "<sklearn.metrics._plot.confusion_matrix.ConfusionMatrixDisplay at 0x14bc8d070>"
      ]
     },
     "execution_count": 391,
     "metadata": {},
     "output_type": "execute_result"
    },
    {
     "data": {
      "image/png": "[encoded data removed]",
      "text/plain": [
       "<Figure size 432x288 with 2 Axes>"
      ]
     },
     "metadata": {
      "needs_background": "light"
     },
     "output_type": "display_data"
    }
   ],
   "source": [
    "print(pipe.score(X_test, y_test))\n",
    "pred = pipe.predict(X_test)\n",
    "print(classification_report(y_test, pred))\n",
    "plot_confusion_matrix(pipe, X_test, y_test)"
   ]
  },
  {
   "cell_type": "code",
   "execution_count": null,
   "id": "sporting-toronto",
   "metadata": {},
   "outputs": [],
   "source": []
  }
 ],
 "metadata": {
  "kernelspec": {
   "display_name": "Python 3",
   "language": "python",
   "name": "python3"
  },
  "language_info": {
   "codemirror_mode": {
    "name": "ipython",
    "version": 3
   },
   "file_extension": ".py",
   "mimetype": "text/x-python",
   "name": "python",
   "nbconvert_exporter": "python",
   "pygments_lexer": "ipython3",
   "version": "3.9.1"
  }
 },
 "nbformat": 4,
 "nbformat_minor": 5
}
